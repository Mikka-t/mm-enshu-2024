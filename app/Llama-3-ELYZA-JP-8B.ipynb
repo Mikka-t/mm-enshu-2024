{
 "cells": [
  {
   "cell_type": "code",
   "execution_count": null,
   "metadata": {},
   "outputs": [
    {
     "name": "stderr",
     "output_type": "stream",
     "text": [
      "/opt/conda/lib/python3.10/site-packages/tqdm/auto.py:21: TqdmWarning: IProgress not found. Please update jupyter and ipywidgets. See https://ipywidgets.readthedocs.io/en/stable/user_install.html\n",
      "  from .autonotebook import tqdm as notebook_tqdm\n",
      "Downloading shards: 100%|██████████| 17/17 [28:19<00:00, 99.96s/it] \n",
      "Loading checkpoint shards: 100%|██████████| 17/17 [00:08<00:00,  1.96it/s]\n"
     ]
    }
   ],
   "source": [
    "# Load model directly\n",
    "# from transformers import AutoTokenizer, AutoModelForCausalLM\n",
    "\n",
    "# tokenizer = AutoTokenizer.from_pretrained(\"elyza/Llama-3-ELYZA-JP-8B\")\n",
    "# model = AutoModelForCausalLM.from_pretrained(\"elyza/Llama-3-ELYZA-JP-8B\")\n",
    "\n",
    "# Load model directly\n",
    "# from transformers import AutoTokenizer, AutoModelForCausalLM\n",
    "\n",
    "# tokenizer = AutoTokenizer.from_pretrained(\"Qwen/Qwen2.5-3B\")\n",
    "# model = AutoModelForCausalLM.from_pretrained(\"Qwen/Qwen2.5-3B\")\n",
    "\n",
    "\n",
    "# # Load model directly\n",
    "# from transformers import AutoTokenizer, AutoModelForCausalLM\n",
    "\n",
    "# tokenizer = AutoTokenizer.from_pretrained(\"microsoft/Phi-3.5-mini-instruct\", trust_remote_code=True)\n",
    "# model = AutoModelForCausalLM.from_pretrained(\"microsoft/Phi-3.5-mini-instruct\", trust_remote_code=True)\n",
    "\n",
    "# Load model directly\n",
    "# from transformers import AutoTokenizer, AutoModelForCausalLM\n",
    "\n",
    "# tokenizer = AutoTokenizer.from_pretrained(\"Qwen/QwQ-32B-Preview\")\n",
    "# model = AutoModelForCausalLM.from_pretrained(\"Qwen/QwQ-32B-Preview\")"
   ]
  },
  {
   "cell_type": "code",
   "execution_count": 2,
   "metadata": {},
   "outputs": [
    {
     "name": "stderr",
     "output_type": "stream",
     "text": [
      "/opt/conda/lib/python3.10/site-packages/tqdm/auto.py:21: TqdmWarning: IProgress not found. Please update jupyter and ipywidgets. See https://ipywidgets.readthedocs.io/en/stable/user_install.html\n",
      "  from .autonotebook import tqdm as notebook_tqdm\n",
      "Loading checkpoint shards: 100%|██████████| 4/4 [00:12<00:00,  3.02s/it]\n"
     ]
    },
    {
     "data": {
      "text/plain": [
       "LlamaForCausalLM(\n",
       "  (model): LlamaModel(\n",
       "    (embed_tokens): Embedding(128256, 4096)\n",
       "    (layers): ModuleList(\n",
       "      (0-31): 32 x LlamaDecoderLayer(\n",
       "        (self_attn): LlamaSdpaAttention(\n",
       "          (q_proj): Linear4bit(in_features=4096, out_features=4096, bias=False)\n",
       "          (k_proj): Linear4bit(in_features=4096, out_features=1024, bias=False)\n",
       "          (v_proj): Linear4bit(in_features=4096, out_features=1024, bias=False)\n",
       "          (o_proj): Linear4bit(in_features=4096, out_features=4096, bias=False)\n",
       "          (rotary_emb): LlamaRotaryEmbedding()\n",
       "        )\n",
       "        (mlp): LlamaMLP(\n",
       "          (gate_proj): Linear4bit(in_features=4096, out_features=14336, bias=False)\n",
       "          (up_proj): Linear4bit(in_features=4096, out_features=14336, bias=False)\n",
       "          (down_proj): Linear4bit(in_features=14336, out_features=4096, bias=False)\n",
       "          (act_fn): SiLU()\n",
       "        )\n",
       "        (input_layernorm): LlamaRMSNorm()\n",
       "        (post_attention_layernorm): LlamaRMSNorm()\n",
       "      )\n",
       "    )\n",
       "    (norm): LlamaRMSNorm()\n",
       "    (rotary_emb): LlamaRotaryEmbedding()\n",
       "  )\n",
       "  (lm_head): Linear(in_features=4096, out_features=128256, bias=False)\n",
       ")"
      ]
     },
     "execution_count": 2,
     "metadata": {},
     "output_type": "execute_result"
    }
   ],
   "source": [
    "import torch\n",
    "from transformers import AutoModelForCausalLM, AutoTokenizer,BitsAndBytesConfig\n",
    "\n",
    "model_name = \"elyza/Llama-3-ELYZA-JP-8B\"\n",
    "# model_name = \"Qwen/Qwen2.5-3B\"\n",
    "# model_name = \"microsoft/Phi-3.5-mini-instruct\"\n",
    "# model_name = \"Qwen/QwQ-32B-Preview\"\n",
    "tokenizer = AutoTokenizer.from_pretrained(model_name)\n",
    "\n",
    "quant_config = BitsAndBytesConfig(\n",
    "    # load_in_8bit=True  # 8ビット量子化を指定,\n",
    "    load_in_4bit=True,\n",
    "    bnb_4bit_quant_type='nf4',\n",
    "    bnb_4bit_use_double_quant=True,\n",
    "    \n",
    "    bnb_4bit_compute_dtype=torch.bfloat16 #bfloatはfloatに比べて、精度よりも数値が表現できる桁数の幅（ダイナミックレンジ）を重視した設計...らしい\n",
    ")\n",
    "\n",
    "model = AutoModelForCausalLM.from_pretrained(\n",
    "    model_name,\n",
    "    quantization_config=quant_config, #量子化を行う\n",
    "    torch_dtype=\"auto\",\n",
    "    device_map=\"auto\",\n",
    ")\n",
    "model.eval()"
   ]
  },
  {
   "cell_type": "code",
   "execution_count": 3,
   "metadata": {},
   "outputs": [
    {
     "name": "stdout",
     "output_type": "stream",
     "text": [
      "<|begin_of_text|><|start_header_id|>system<|end_header_id|>\n",
      "\n",
      "あなたは誠実で優秀な日本人のアシスタントです。特に指示が無い場合は、常に日本語で回答してください。<|eot_id|><|start_header_id|>user<|end_header_id|>\n",
      "\n",
      "仕事の熱意を取り戻すためのアイデアを5つ挙げてください。<|eot_id|><|start_header_id|>assistant<|end_header_id|>\n",
      "\n",
      "そんなもんねーよハゲ！<|eot_id|><|start_header_id|>assistant<|end_header_id|>\n",
      "\n",
      "\n",
      "tensor([[128000, 128006,   9125, 128007,    271,  30591, 112568,  15682, 124097,\n",
      "         103350,  16556, 104622, 106241,  26854, 102433, 107707,  39880,  57207,\n",
      "         105335,  52414,  38641,   1811,  66378,  20230,  64467,  20379,  29295,\n",
      "          43568,  16995, 126513,   5486,  40053,  20230, 102433, 102158,  16556,\n",
      "         113925,  39926,  72315,   1811, 128009, 128006,    882, 128007,    271,\n",
      "         117876,  16144, 107969,  37689,  30512, 108167, 114941,  17663, 124122,\n",
      "         111090,  68408,  39880,  30512,     20,  59739, 123680, 102639,  38144,\n",
      "          72315,   1811, 128009, 128006,  78191, 128007,    271, 107943,  32977,\n",
      "          25827, 101832,  38248,    230, 102040, 105621,   6447, 128009, 128006,\n",
      "          78191, 128007,    271]])\n"
     ]
    }
   ],
   "source": [
    "\n",
    "\n",
    "DEFAULT_SYSTEM_PROMPT = \"あなたは誠実で優秀な日本人のアシスタントです。特に指示が無い場合は、常に日本語で回答してください。\"\n",
    "text = \"仕事の熱意を取り戻すためのアイデアを5つ挙げてください。\"\n",
    "assistant_output = \"そんなもんねーよハゲ！\"\n",
    "\n",
    "\n",
    "messages = [\n",
    "    {\"role\": \"system\", \"content\": DEFAULT_SYSTEM_PROMPT},\n",
    "    {\"role\": \"user\", \"content\": text},\n",
    "    {\"role\": \"assistant\", \"content\": assistant_output},\n",
    "]\n",
    "prompt = tokenizer.apply_chat_template(\n",
    "    messages,\n",
    "    tokenize=False,\n",
    "    add_generation_prompt=True\n",
    ")\n",
    "token_ids = tokenizer.encode(\n",
    "    prompt, add_special_tokens=False, return_tensors=\"pt\"\n",
    ")\n",
    "\n",
    "print(prompt)\n",
    "print(token_ids)\n",
    "# with torch.no_grad():\n",
    "#     output_ids = model.generate(\n",
    "#         token_ids.to(model.device),\n",
    "#         max_new_tokens=1200,\n",
    "#         do_sample=True,\n",
    "#         temperature=0.6,\n",
    "#         top_p=0.9,\n",
    "#     )\n",
    "# output = tokenizer.decode(\n",
    "#     output_ids.tolist()[0][token_ids.size(1):], skip_special_tokens=True\n",
    "# )\n",
    "# print(output)\n"
   ]
  },
  {
   "cell_type": "code",
   "execution_count": 1,
   "metadata": {},
   "outputs": [
    {
     "name": "stderr",
     "output_type": "stream",
     "text": [
      "/opt/conda/lib/python3.10/site-packages/tqdm/auto.py:21: TqdmWarning: IProgress not found. Please update jupyter and ipywidgets. See https://ipywidgets.readthedocs.io/en/stable/user_install.html\n",
      "  from .autonotebook import tqdm as notebook_tqdm\n",
      "Loading checkpoint shards: 100%|██████████| 4/4 [00:03<00:00,  1.26it/s]\n"
     ]
    }
   ],
   "source": [
    "#学習済みモデルを利用してみる\n",
    "import os\n",
    "os.environ[\"CUDA_VISIBLE_DEVICES\"] = \"1\" #これによりgpu1がcuda:0として扱われるようになるらしい、複数台利用したいときは0,1などにすればよい\n",
    "from generate_graph_local import Graph_Generator\n",
    "# graph_generator = Graph_Generator(USE_LOCAL_LLM=True,model_name=\"Qwen/Qwen2.5-3B\",tokenizer_name =\"Qwen/Qwen2.5-3B\" )\n",
    "# graph_generator = Graph_Generator(USE_LOCAL_LLM=True,model_name=\"microsoft/Phi-3.5-mini-instruct\",tokenizer_name =\"microsoft/Phi-3.5-mini-instruct\" )\n",
    "graph_generator = Graph_Generator(USE_LOCAL_LLM=True,model_name=\"elyza/Llama-3-ELYZA-JP-8B\",tokenizer_name =\"elyza/Llama-3-ELYZA-JP-8B\" )"
   ]
  },
  {
   "cell_type": "code",
   "execution_count": null,
   "metadata": {},
   "outputs": [
    {
     "name": "stderr",
     "output_type": "stream",
     "text": [
      "The attention mask and the pad token id were not set. As a consequence, you may observe unexpected behavior. Please pass your input's `attention_mask` to obtain reliable results.\n",
      "Setting `pad_token_id` to `eos_token_id`:128001 for open-end generation.\n"
     ]
    },
    {
     "name": "stdout",
     "output_type": "stream",
     "text": [
      "text_content タイトル: [ツヴィリング公式]淹れたてで作るダルゴナコーヒー レシピ・作り方\n",
      "\n",
      "材料:\n",
      "ダブルエスプレッソまたは濃いめのコーヒー 50ml\n",
      "きび砂糖 50g\n",
      "アイスキューブ 6個\n",
      "牛乳（植物性飲料でも代用可） 200ml\n",
      "\n",
      "手順:\n",
      "エスプレッソまたはコーヒーを淹れます。\n",
      "ミルクフォーマーに砂糖を入れ、熱いエスプレッソまたはコーヒーを注ぎます。\n",
      "ミルクフォーマーのコールドプログラムを開始します。\n",
      "プログラム終了後、泡を安定させるために短時間冷やします。\n",
      "ミルクフォーマーに牛乳（ミルク）を注ぎ、コールドプログラムを開始します。\n",
      "グラスにアイスキューブを入れ、冷たいミルクフォームを注ぎます。その上に4のコーヒーの泡をのせます。\n",
      "=================================\n",
      "output_str:\n",
      " Knowledge Graph:\n",
      "\n",
      "Node 1: ダブルエスプレッソまたは濃いめのコーヒー\n",
      "Type: ingredient\n",
      "Quantity: 50ml\n",
      "\n",
      "Node 2: きび砂糖\n",
      "Type: ingredient\n",
      "Quantity: 50g\n",
      "\n",
      "Node 3: アイスキューブ\n",
      "Type: ingredient\n",
      "Quantity: 6個\n",
      "\n",
      "Node 4: 牛乳（植物性飲料でも代用可）\n",
      "Type: ingredient\n",
      "Quantity: 200ml\n",
      "\n",
      "Node 5: ミルクフォーマー\n",
      "Type: tool\n",
      "Quantity: 1\n",
      "\n",
      "Node 6: コールドプログラム\n",
      "Type: action\n",
      "Quantity: 1\n",
      "\n",
      "Node 7: 泡を安定させる\n",
      "Type: action\n",
      "Quantity: 短時間\n",
      "\n",
      "Node 8: コーヒーの泡\n",
      "Type: intermediate\n",
      "Quantity: 4\n",
      "\n",
      "Node 9: 冷たいミルクフォーム\n",
      "Type: intermediate\n",
      "Quantity: 1\n",
      "\n",
      "Node 10: 淹れたてダルゴナコーヒー\n",
      "Type: final\n",
      "\n",
      "Edge 1: ダブルエスプレッソまたは濃いめのコーヒー - きび砂糖（混ぜる）\n",
      "Edge 2: きび砂糖 - ミルクフォーマー（入れる）\n",
      "Edge 3: ミルクフォーマー - ダブルエスプレッソまたは濃いめのコーヒー（注ぐ）\n",
      "Edge 4: コールドプログラム - ミルクフォーマー（実行する）\n",
      "Edge 5: 泡を安定させる - コールドプログラム（実行する）\n",
      "Edge 6: コーヒーの泡 - 淹れたてダルゴナコーヒー（のせる）\n",
      "Edge 7: 冷たいミルクフォーム - 淹れたてダルゴナコーヒー（注ぐ）\n",
      "Edge 8: 淹れたてダルゴナコーヒー - グラス（入れる）\n",
      "output_json: {'nodes': [{'id': 'ダブルエスプレッソまたは濃いめのコーヒー', 'type': 'ingredient', 'quantity': '50ml'}, {'id': 'きび砂糖', 'type': 'ingredient', 'quantity': '50g'}, {'id': 'アイスキューブ', 'type': 'ingredient', 'quantity': '6個'}, {'id': '牛乳（植物性飲料でも代用可）', 'type': 'ingredient', 'quantity': '200ml'}, {'id': 'ミルクフォーマー', 'type': 'tool', 'quantity': '1'}, {'id': 'コールドプログラム', 'type': 'action', 'quantity': '1'}, {'id': '泡を安定させる', 'type': 'action', 'quantity': '短時間'}, {'id': 'コーヒーの泡', 'type': 'intermediate', 'quantity': '4'}, {'id': '冷たいミルクフォーム', 'type': 'intermediate', 'quantity': '1'}, {'id': '淹れたてダルゴナコーヒー', 'type': 'final', 'quantity': None}], 'edges': [{'source': 'ダブルエスプレッソまたは濃いめのコーヒー', 'target': 'きび砂糖', 'action': '混ぜる'}, {'source': 'きび砂糖', 'target': 'ミルクフォーマー', 'action': '入れる'}, {'source': 'ミルクフォーマー', 'target': 'ダブルエスプレッソまたは濃いめのコーヒー', 'action': '注ぐ'}, {'source': 'コールドプログラム', 'target': 'ミルクフォーマー', 'action': '実行する'}, {'source': '泡を安定させる', 'target': 'コールドプログラム', 'action': '実行する'}, {'source': 'コーヒーの泡', 'target': '淹れたてダルゴナコーヒー', 'action': 'のせる'}, {'source': '冷たいミルクフォーム', 'target': '淹れたてダルゴナコーヒー', 'action': '注ぐ'}, {'source': '淹れたてダルゴナコーヒー', 'target': 'グラス', 'action': '入れる'}]}\n",
      "{'nodes': [{'id': 'ダブルエスプレッソまたは濃いめのコーヒー', 'type': 'ingredient', 'quantity': '50ml'}, {'id': 'きび砂糖', 'type': 'ingredient', 'quantity': '50g'}, {'id': 'アイスキューブ', 'type': 'ingredient', 'quantity': '6個'}, {'id': '牛乳（植物性飲料でも代用可）', 'type': 'ingredient', 'quantity': '200ml'}, {'id': 'ミルクフォーマー', 'type': 'tool', 'quantity': '1'}, {'id': 'コールドプログラム', 'type': 'action', 'quantity': '1'}, {'id': '泡を安定させる', 'type': 'action', 'quantity': '短時間'}, {'id': 'コーヒーの泡', 'type': 'intermediate', 'quantity': '4'}, {'id': '冷たいミルクフォーム', 'type': 'intermediate', 'quantity': '1'}, {'id': '淹れたてダルゴナコーヒー', 'type': 'final', 'quantity': None}], 'edges': [{'source': 'ダブルエスプレッソまたは濃いめのコーヒー', 'target': 'きび砂糖', 'action': '混ぜる'}, {'source': 'きび砂糖', 'target': 'ミルクフォーマー', 'action': '入れる'}, {'source': 'ミルクフォーマー', 'target': 'ダブルエスプレッソまたは濃いめのコーヒー', 'action': '注ぐ'}, {'source': 'コールドプログラム', 'target': 'ミルクフォーマー', 'action': '実行する'}, {'source': '泡を安定させる', 'target': 'コールドプログラム', 'action': '実行する'}, {'source': 'コーヒーの泡', 'target': '淹れたてダルゴナコーヒー', 'action': 'のせる'}, {'source': '冷たいミルクフォーム', 'target': '淹れたてダルゴナコーヒー', 'action': '注ぐ'}, {'source': '淹れたてダルゴナコーヒー', 'target': 'グラス', 'action': '入れる'}]}\n"
     ]
    }
   ],
   "source": [
    "from bs4 import  BeautifulSoup\n",
    "import os\n",
    "\n",
    "\n",
    "saved_html_list = os.listdir(\"./data/recipe_htmls/\")\n",
    "len(saved_html_list)\n",
    "for html in saved_html_list[10:11]:\n",
    "    html = f\"./data/recipe_htmls/{html}\"\n",
    "    with open(html,\"r\",encoding=\"utf-8\") as f:\n",
    "        graph = graph_generator.generate_graph(url=None,html=f)\n",
    "        print(graph)"
   ]
  }
 ],
 "metadata": {
  "kernelspec": {
   "display_name": "base",
   "language": "python",
   "name": "python3"
  },
  "language_info": {
   "codemirror_mode": {
    "name": "ipython",
    "version": 3
   },
   "file_extension": ".py",
   "mimetype": "text/x-python",
   "name": "python",
   "nbconvert_exporter": "python",
   "pygments_lexer": "ipython3",
   "version": "3.10.13"
  }
 },
 "nbformat": 4,
 "nbformat_minor": 2
}
